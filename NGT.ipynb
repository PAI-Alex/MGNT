{
 "cells": [
  {
   "cell_type": "code",
   "execution_count": 1,
   "metadata": {},
   "outputs": [
    {
     "ename": "SyntaxError",
     "evalue": "invalid syntax (1048225456.py, line 1)",
     "output_type": "error",
     "traceback": [
      "\u001b[0;36m  Cell \u001b[0;32mIn[1], line 1\u001b[0;36m\u001b[0m\n\u001b[0;31m    pip install pandas\u001b[0m\n\u001b[0m        ^\u001b[0m\n\u001b[0;31mSyntaxError\u001b[0m\u001b[0;31m:\u001b[0m invalid syntax\n"
     ]
    }
   ],
   "source": [
    "pip install pandas\n",
    "\n"
   ]
  },
  {
   "cell_type": "code",
   "execution_count": 5,
   "metadata": {},
   "outputs": [
    {
     "name": "stdout",
     "output_type": "stream",
     "text": [
      "Collecting pandas\n",
      "  Downloading pandas-2.0.1-cp310-cp310-win_amd64.whl (10.7 MB)\n",
      "     ---------------------------------------- 10.7/10.7 MB 1.9 MB/s eta 0:00:00\n",
      "Collecting pytz>=2020.1\n",
      "  Downloading pytz-2023.3-py2.py3-none-any.whl (502 kB)\n",
      "     -------------------------------------- 502.3/502.3 kB 2.0 MB/s eta 0:00:00\n",
      "Requirement already satisfied: numpy>=1.21.0 in c:\\python\\lib\\site-packages (from pandas) (1.24.2)\n",
      "Requirement already satisfied: python-dateutil>=2.8.2 in c:\\python\\lib\\site-packages (from pandas) (2.8.2)\n",
      "Collecting tzdata>=2022.1\n",
      "  Downloading tzdata-2023.3-py2.py3-none-any.whl (341 kB)\n",
      "     -------------------------------------- 341.8/341.8 kB 2.1 MB/s eta 0:00:00\n",
      "Requirement already satisfied: six>=1.5 in c:\\python\\lib\\site-packages (from python-dateutil>=2.8.2->pandas) (1.16.0)\n",
      "Installing collected packages: pytz, tzdata, pandas\n",
      "Successfully installed pandas-2.0.1 pytz-2023.3 tzdata-2023.3\n",
      "Note: you may need to restart the kernel to use updated packages.\n"
     ]
    },
    {
     "name": "stderr",
     "output_type": "stream",
     "text": [
      "\n",
      "[notice] A new release of pip available: 22.3.1 -> 23.1.2\n",
      "[notice] To update, run: python.exe -m pip install --upgrade pip\n"
     ]
    }
   ],
   "source": [
    "pip install pandas\n"
   ]
  },
  {
   "cell_type": "code",
   "execution_count": 4,
   "metadata": {},
   "outputs": [],
   "source": [
    "import pandas as pd\n",
    "import datetime as dtm\n",
    "import matplotlib.pyplot as plt"
   ]
  },
  {
   "cell_type": "code",
   "execution_count": null,
   "metadata": {},
   "outputs": [],
   "source": [
    "df_ngt = pd.read_csv(\"/media/alexandra/Transcend1/GIS1/PASS_0922.csv\", encoding= 'windows-1251', sep='\\t')"
   ]
  },
  {
   "cell_type": "code",
   "execution_count": 1,
   "metadata": {},
   "outputs": [
    {
     "ename": "NameError",
     "evalue": "name 'df_ngt' is not defined",
     "output_type": "error",
     "traceback": [
      "\u001b[0;31m---------------------------------------------------------------------------\u001b[0m",
      "\u001b[0;31mNameError\u001b[0m                                 Traceback (most recent call last)",
      "Cell \u001b[0;32mIn[1], line 1\u001b[0m\n\u001b[0;32m----> 1\u001b[0m df_ngt\u001b[39m.\u001b[39mhead(\u001b[39m10\u001b[39m)\n",
      "\u001b[0;31mNameError\u001b[0m: name 'df_ngt' is not defined"
     ]
    }
   ],
   "source": [
    "df_ngt.head(10)"
   ]
  },
  {
   "cell_type": "code",
   "execution_count": 11,
   "metadata": {},
   "outputs": [
    {
     "data": {
      "text/html": [
       "<div>\n",
       "<style scoped>\n",
       "    .dataframe tbody tr th:only-of-type {\n",
       "        vertical-align: middle;\n",
       "    }\n",
       "\n",
       "    .dataframe tbody tr th {\n",
       "        vertical-align: top;\n",
       "    }\n",
       "\n",
       "    .dataframe thead th {\n",
       "        text-align: right;\n",
       "    }\n",
       "</style>\n",
       "<table border=\"1\" class=\"dataframe\">\n",
       "  <thead>\n",
       "    <tr style=\"text-align: right;\">\n",
       "      <th></th>\n",
       "      <th>ticker_ID</th>\n",
       "      <th>Bus_ID</th>\n",
       "      <th>Exit</th>\n",
       "      <th>Data entrance</th>\n",
       "    </tr>\n",
       "  </thead>\n",
       "  <tbody>\n",
       "    <tr>\n",
       "      <th>0</th>\n",
       "      <td>3992819905</td>\n",
       "      <td>Э_763</td>\n",
       "      <td>308</td>\n",
       "      <td>02.09.2022 07:03:21</td>\n",
       "    </tr>\n",
       "    <tr>\n",
       "      <th>1</th>\n",
       "      <td>21491668</td>\n",
       "      <td>КА_333</td>\n",
       "      <td>705</td>\n",
       "      <td>02.09.2022 07:03:27</td>\n",
       "    </tr>\n",
       "    <tr>\n",
       "      <th>2</th>\n",
       "      <td>3951566563</td>\n",
       "      <td>КА_571</td>\n",
       "      <td>3</td>\n",
       "      <td>02.09.2022 07:03:09</td>\n",
       "    </tr>\n",
       "    <tr>\n",
       "      <th>3</th>\n",
       "      <td>16576092</td>\n",
       "      <td>КА_571</td>\n",
       "      <td>3</td>\n",
       "      <td>02.09.2022 07:03:05</td>\n",
       "    </tr>\n",
       "    <tr>\n",
       "      <th>4</th>\n",
       "      <td>12420682</td>\n",
       "      <td>КА_771</td>\n",
       "      <td>7710</td>\n",
       "      <td>02.09.2022 06:59:26</td>\n",
       "    </tr>\n",
       "    <tr>\n",
       "      <th>5</th>\n",
       "      <td>18605504</td>\n",
       "      <td>АП_863</td>\n",
       "      <td>402</td>\n",
       "      <td>02.09.2022 07:03:24</td>\n",
       "    </tr>\n",
       "    <tr>\n",
       "      <th>6</th>\n",
       "      <td>6314464</td>\n",
       "      <td>КА_112</td>\n",
       "      <td>109</td>\n",
       "      <td>02.09.2022 07:01:08</td>\n",
       "    </tr>\n",
       "    <tr>\n",
       "      <th>7</th>\n",
       "      <td>15695619</td>\n",
       "      <td>А_706</td>\n",
       "      <td>704</td>\n",
       "      <td>02.09.2022 07:01:52</td>\n",
       "    </tr>\n",
       "    <tr>\n",
       "      <th>8</th>\n",
       "      <td>884766</td>\n",
       "      <td>АЗ_400т</td>\n",
       "      <td>720</td>\n",
       "      <td>02.09.2022 07:02:47</td>\n",
       "    </tr>\n",
       "    <tr>\n",
       "      <th>9</th>\n",
       "      <td>29290659</td>\n",
       "      <td>А_911</td>\n",
       "      <td>406</td>\n",
       "      <td>02.09.2022 07:02:53</td>\n",
       "    </tr>\n",
       "  </tbody>\n",
       "</table>\n",
       "</div>"
      ],
      "text/plain": [
       "    ticker_ID   Bus_ID  Exit        Data entrance\n",
       "0  3992819905    Э_763   308  02.09.2022 07:03:21\n",
       "1    21491668   КА_333   705  02.09.2022 07:03:27\n",
       "2  3951566563   КА_571     3  02.09.2022 07:03:09\n",
       "3    16576092   КА_571     3  02.09.2022 07:03:05\n",
       "4    12420682   КА_771  7710  02.09.2022 06:59:26\n",
       "5    18605504   АП_863   402  02.09.2022 07:03:24\n",
       "6     6314464   КА_112   109  02.09.2022 07:01:08\n",
       "7    15695619    А_706   704  02.09.2022 07:01:52\n",
       "8      884766  АЗ_400т   720  02.09.2022 07:02:47\n",
       "9    29290659    А_911   406  02.09.2022 07:02:53"
      ]
     },
     "execution_count": 11,
     "metadata": {},
     "output_type": "execute_result"
    }
   ],
   "source": [
    "df_ngt.columns = [\"ticker_ID\", \"Bus_ID\", \"Exit\", \"Data entrance\"]\n",
    "#df_ngt = df_ngt.drop([332])\n",
    "#df_ngt.loc[[332]]\n",
    "\n",
    "df_ngt.head(10)"
   ]
  },
  {
   "cell_type": "code",
   "execution_count": 9,
   "metadata": {},
   "outputs": [],
   "source": [
    "df_ngt[\"Time entrance\"] = pd.to_datetime(df_ngt[\"Data entrance\"],  dayfirst=True)"
   ]
  },
  {
   "cell_type": "code",
   "execution_count": 12,
   "metadata": {},
   "outputs": [
    {
     "data": {
      "text/html": [
       "<div>\n",
       "<style scoped>\n",
       "    .dataframe tbody tr th:only-of-type {\n",
       "        vertical-align: middle;\n",
       "    }\n",
       "\n",
       "    .dataframe tbody tr th {\n",
       "        vertical-align: top;\n",
       "    }\n",
       "\n",
       "    .dataframe thead th {\n",
       "        text-align: right;\n",
       "    }\n",
       "</style>\n",
       "<table border=\"1\" class=\"dataframe\">\n",
       "  <thead>\n",
       "    <tr style=\"text-align: right;\">\n",
       "      <th></th>\n",
       "      <th>ticker_ID</th>\n",
       "      <th>Bus_ID</th>\n",
       "      <th>Exit</th>\n",
       "      <th>Data entrance</th>\n",
       "      <th>Time entrance</th>\n",
       "    </tr>\n",
       "  </thead>\n",
       "  <tbody>\n",
       "    <tr>\n",
       "      <th>331</th>\n",
       "      <td>428382</td>\n",
       "      <td>А_м89</td>\n",
       "      <td>320</td>\n",
       "      <td>02.09.2022 07:02:11</td>\n",
       "      <td>07:02:11</td>\n",
       "    </tr>\n",
       "  </tbody>\n",
       "</table>\n",
       "</div>"
      ],
      "text/plain": [
       "     ticker_ID Bus_ID  Exit        Data entrance Time entrance\n",
       "331     428382  А_м89   320  02.09.2022 07:02:11      07:02:11"
      ]
     },
     "execution_count": 12,
     "metadata": {},
     "output_type": "execute_result"
    }
   ],
   "source": [
    "df_ngt.loc[[331]]"
   ]
  },
  {
   "cell_type": "code",
   "execution_count": 27,
   "metadata": {},
   "outputs": [],
   "source": [
    "import datetime as dtm"
   ]
  },
  {
   "cell_type": "code",
   "execution_count": 11,
   "metadata": {},
   "outputs": [],
   "source": [
    "df_ngt[\"TM\"] = df_ngt[\"Time entrance\"].dt.hour * 3600+df_ngt[\"Time entrance\"].dt.minute * 60"
   ]
  },
  {
   "cell_type": "code",
   "execution_count": 12,
   "metadata": {},
   "outputs": [
    {
     "data": {
      "text/plain": [
       "0            25380\n",
       "1            25380\n",
       "2            25380\n",
       "3            25380\n",
       "4            25140\n",
       "             ...  \n",
       "100841132    49020\n",
       "100841133    49020\n",
       "100841134    40140\n",
       "100841135    39780\n",
       "100841136    37260\n",
       "Name: TM, Length: 100841137, dtype: int32"
      ]
     },
     "execution_count": 12,
     "metadata": {},
     "output_type": "execute_result"
    }
   ],
   "source": [
    "df_ngt[\"TM\"]"
   ]
  },
  {
   "cell_type": "code",
   "execution_count": 16,
   "metadata": {},
   "outputs": [
    {
     "data": {
      "text/plain": [
       "<Axes: >"
      ]
     },
     "execution_count": 16,
     "metadata": {},
     "output_type": "execute_result"
    },
    {
     "data": {
      "image/png": "[encoded data removed]",
      "text/plain": [
       "<Figure size 640x480 with 1 Axes>"
      ]
     },
     "metadata": {},
     "output_type": "display_data"
    }
   ],
   "source": [
    "df_ngt[\"TM\"].hist(bins = 200)"
   ]
  },
  {
   "cell_type": "code",
   "execution_count": 14,
   "metadata": {},
   "outputs": [
    {
     "name": "stdout",
     "output_type": "stream",
     "text": [
      "8002950\n"
     ]
    }
   ],
   "source": [
    "print(len(df_ngt[\"ticker_ID\"].unique()))"
   ]
  }
 ],
 "metadata": {
  "kernelspec": {
   "display_name": "Python 3",
   "language": "python",
   "name": "python3"
  },
  "language_info": {
   "codemirror_mode": {
    "name": "ipython",
    "version": 3
   },
   "file_extension": ".py",
   "mimetype": "text/x-python",
   "name": "python",
   "nbconvert_exporter": "python",
   "pygments_lexer": "ipython3",
   "version": "3.8.16"
  },
  "orig_nbformat": 4,
  "vscode": {
   "interpreter": {
    "hash": "f8c522d317cfc74285a4badaa12dfe04ee0c0ee44b07248e49c41f718a5f2199"
   }
  }
 },
 "nbformat": 4,
 "nbformat_minor": 2
}
